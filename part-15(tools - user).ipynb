{
 "cells": [
  {
   "cell_type": "code",
   "execution_count": 1,
   "id": "d395b930-75d2-4e87-9f8e-42e74a59cde0",
   "metadata": {},
   "outputs": [],
   "source": [
    "# buliding the langchain \n",
    "from langchain_core.tools import tool "
   ]
  },
  {
   "cell_type": "code",
   "execution_count": 2,
   "id": "9505ce65-5c45-4de1-890c-37a2ef394782",
   "metadata": {},
   "outputs": [],
   "source": [
    "# step1 : create a function \n",
    "def multiply(a,b): \n",
    "    \"\"\"Multiply two number\"\"\"\n",
    "    return a*b"
   ]
  },
  {
   "cell_type": "code",
   "execution_count": 3,
   "id": "0ba3555c-e2e4-4421-8d8d-e99059d4fad0",
   "metadata": {},
   "outputs": [],
   "source": [
    "#Step 2 -add type hint \n",
    "def mutiply(a: int , b: int) -> int : \n",
    "    \"\"\"multiply two number\"\"\" \n",
    "    return a*b"
   ]
  },
  {
   "cell_type": "code",
   "execution_count": 4,
   "id": "4522a5d8-37fd-4f5a-8d5f-06458ea27188",
   "metadata": {},
   "outputs": [],
   "source": [
    "# step 3 \n",
    "@tool \n",
    "def multiply(a:int ,b:int ) -> int : \n",
    "    \"\"\"multipy two number\"\"\" \n",
    "    return a*b "
   ]
  },
  {
   "cell_type": "code",
   "execution_count": 5,
   "id": "75f2cc03-f925-4889-9cf1-cdff266c5353",
   "metadata": {},
   "outputs": [],
   "source": [
    "result = multiply.invoke({\"a\":3,\"b\":5})"
   ]
  },
  {
   "cell_type": "code",
   "execution_count": 6,
   "id": "419c6bca-7ce4-4245-860d-2031e236eaf6",
   "metadata": {},
   "outputs": [
    {
     "data": {
      "text/plain": [
       "15"
      ]
     },
     "execution_count": 6,
     "metadata": {},
     "output_type": "execute_result"
    }
   ],
   "source": [
    "result"
   ]
  },
  {
   "cell_type": "code",
   "execution_count": 7,
   "id": "6225361f-5454-449a-aaea-c31fdcdbe71b",
   "metadata": {},
   "outputs": [
    {
     "name": "stdout",
     "output_type": "stream",
     "text": [
      "multiply\n"
     ]
    }
   ],
   "source": [
    "print(multiply.name)"
   ]
  },
  {
   "cell_type": "code",
   "execution_count": 8,
   "id": "de12e011-b76c-42b8-bd5d-c2fec03d630d",
   "metadata": {},
   "outputs": [
    {
     "name": "stdout",
     "output_type": "stream",
     "text": [
      "multipy two number\n"
     ]
    }
   ],
   "source": [
    "print(multiply.description)"
   ]
  },
  {
   "cell_type": "code",
   "execution_count": 10,
   "id": "43777042-b139-4a78-b820-8aa38ae17039",
   "metadata": {},
   "outputs": [
    {
     "name": "stdout",
     "output_type": "stream",
     "text": [
      "{'description': 'multipy two number', 'properties': {'a': {'title': 'A', 'type': 'integer'}, 'b': {'title': 'B', 'type': 'integer'}}, 'required': ['a', 'b'], 'title': 'multiply', 'type': 'object'}\n"
     ]
    }
   ],
   "source": [
    "print(multiply.args_schema.model_json_schema())"
   ]
  },
  {
   "cell_type": "code",
   "execution_count": null,
   "id": "51be4504-d688-407b-b4b1-f60028c94290",
   "metadata": {},
   "outputs": [],
   "source": []
  }
 ],
 "metadata": {
  "kernelspec": {
   "display_name": "Python 3 (ipykernel)",
   "language": "python",
   "name": "python3"
  },
  "language_info": {
   "codemirror_mode": {
    "name": "ipython",
    "version": 3
   },
   "file_extension": ".py",
   "mimetype": "text/x-python",
   "name": "python",
   "nbconvert_exporter": "python",
   "pygments_lexer": "ipython3",
   "version": "3.11.7"
  },
  "widgets": {
   "application/vnd.jupyter.widget-state+json": {
    "state": {},
    "version_major": 2,
    "version_minor": 0
   }
  }
 },
 "nbformat": 4,
 "nbformat_minor": 5
}
