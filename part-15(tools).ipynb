{
 "cells": [
  {
   "cell_type": "code",
   "execution_count": 15,
   "id": "eb3daa33-c172-47f5-bda8-53b20be6c014",
   "metadata": {},
   "outputs": [],
   "source": [
    "from langchain_community.tools import DuckDuckGoSearchRun\n",
    "serach=DuckDuckGoSearchRun()\n",
    "result=serach.invoke(\"what is captail of india\")"
   ]
  },
  {
   "cell_type": "code",
   "execution_count": 16,
   "id": "c34c180b-e815-4300-9fed-f434717cfb15",
   "metadata": {},
   "outputs": [
    {
     "data": {
      "text/plain": [
       "\"New Delhi, national capital of India. It is situated in the north-central part of the country on the west bank of the Yamuna River, adjacent to and just south of Delhi city (Old Delhi) and within the Delhi national capital territory. Learn more about New Delhi in this article. India, the world's seventh-largest country and the second most populous, is known for its incredible diversity and rich cultural heritage. It comprises 28 states and 8 Union Territories, each with its own unique culture, history, and administrative capital. Positioned in South Asia, India operates under a parliamentary system of governance. The official name of India is Bharat, combining traditional and modern names. India's territory includes states, union territories, and any future acquired territories. Parliament can create new states or admit them into the Union under its own terms. India is a Sovereign, Secular, Democratic Republic with a Parliamentary system. These states and territories are further segmented into districts. New Delhi, situated in the National Capital Territory of Delhi, serves as India's administrative, political, and cultural hub. The states and capitals of India weave a rich and diverse tapestry, reflecting the country's deep cultural heritage, traditions, and innovations. The Construction of the Capital of India, Delhi or New Delhi. The construction of Capital of India Delhi or New Delhi, required enormous work. Thousands of laborers, artisans, and skilled workers were engaged in translating the concept of the architects into a living reality. Further, it testified to the British Empire's engineering ...\""
      ]
     },
     "execution_count": 16,
     "metadata": {},
     "output_type": "execute_result"
    }
   ],
   "source": [
    "result"
   ]
  },
  {
   "cell_type": "code",
   "execution_count": 23,
   "id": "76f16d2d-3e31-4ca1-bfa2-4ad5c99d130e",
   "metadata": {},
   "outputs": [
    {
     "name": "stdout",
     "output_type": "stream",
     "text": [
      "Executing command:\n",
      " dir\n",
      " Volume in drive C is OS\n",
      " Volume Serial Number is 3C8E-9CDE\n",
      "\n",
      " Directory of C:\\Users\\raj\\4-Campusx(NLP)\\Gen-AI-in-Langchain\n",
      "\n",
      "23-06-2025  22:55    <DIR>          .\n",
      "22-06-2025  10:16    <DIR>          ..\n",
      "23-06-2025  22:44    <DIR>          .ipynb_checkpoints\n",
      "22-06-2025  10:16                72 Untitled.ipynb\n",
      "22-06-2025  13:33           364,217 Untitled1.ipynb\n",
      "23-06-2025  22:55            70,616 Untitled2.ipynb\n",
      "23-06-2025  22:44                72 Untitled3.ipynb\n",
      "               4 File(s)        434,977 bytes\n",
      "               3 Dir(s)  85,942,501,376 bytes free\n",
      "\n"
     ]
    },
    {
     "name": "stderr",
     "output_type": "stream",
     "text": [
      "C:\\Users\\raj\\anaconda3\\Lib\\site-packages\\langchain_community\\tools\\shell\\tool.py:33: UserWarning: The shell tool has no safeguards by default. Use at your own risk.\n",
      "  warnings.warn(\n"
     ]
    }
   ],
   "source": [
    "from langchain_community.tools import ShellTool \n",
    "shell_tool = ShellTool()\n",
    "result = shell_tool.invoke(\"dir\")\n",
    "for i in result.split(\"/n\"): \n",
    "    print(i)"
   ]
  },
  {
   "cell_type": "code",
   "execution_count": 24,
   "id": "4da0d53b-ccc9-455e-832d-f4f2b0199cb7",
   "metadata": {},
   "outputs": [],
   "source": [
    "# !pip install langchain-experimental"
   ]
  },
  {
   "cell_type": "code",
   "execution_count": null,
   "id": "9509bb00-1f50-4de2-a29b-10d487fc6b64",
   "metadata": {},
   "outputs": [],
   "source": []
  },
  {
   "cell_type": "code",
   "execution_count": 14,
   "id": "208c6980-2fe5-4f4f-bf30-9624261288b1",
   "metadata": {},
   "outputs": [],
   "source": [
    "from duckduckgo_search import DDGS"
   ]
  },
  {
   "cell_type": "code",
   "execution_count": 26,
   "id": "901c60e3-353a-46cc-8e79-66014de448d4",
   "metadata": {},
   "outputs": [
    {
     "name": "stdout",
     "output_type": "stream",
     "text": [
      "India News | Latest India News | Read latest and breaking news from India. Today's top India news headlines, news on Indian politics, elections, government, business, technology, and Bollywood. NPR news, audio, and podcasts. Coverage of breaking stories, national and world news, politics, business, science, technology, and extended coverage of major national and world events. Stay on top of News latest developments on the ground with Al Jazeera's fact-based news, exclusive video footage, photos and updated maps. Mumbai News: CRZ Violation Alleged At Shah Rukh Khan's 'Mannat'; Forest Dept To Submit Report Next Week 21 June 2025, 07:38 PM A senior official of forest department said, \"Our team inspected ... GKToday's Current Affairs Today Section provides latest and Best Daily Current Affairs 2025-2026 for UPSC, IAS/PCS, Banking, IBPS, SSC, Railway, UPPSC, RPSC, BPSC, MPPSC, TNPSC, MPSC, KPSC and other competition exams. ... Places in News MCQs Important Days and Events MCQs Sports Current Affairs MCQs Science & Technology MCQs Summits and ...\n"
     ]
    }
   ],
   "source": [
    "from langchain_community.tools import DuckDuckGoSearchRun \n",
    "c=DuckDuckGoSearchRun()\n",
    "print(c.invoke(\"tell me today news\"))"
   ]
  },
  {
   "cell_type": "code",
   "execution_count": null,
   "id": "b0cb5440-ce7d-4c3a-a492-249e1c4bd2ec",
   "metadata": {},
   "outputs": [],
   "source": []
  }
 ],
 "metadata": {
  "kernelspec": {
   "display_name": "Python 3 (ipykernel)",
   "language": "python",
   "name": "python3"
  },
  "language_info": {
   "codemirror_mode": {
    "name": "ipython",
    "version": 3
   },
   "file_extension": ".py",
   "mimetype": "text/x-python",
   "name": "python",
   "nbconvert_exporter": "python",
   "pygments_lexer": "ipython3",
   "version": "3.11.7"
  },
  "widgets": {
   "application/vnd.jupyter.widget-state+json": {
    "state": {},
    "version_major": 2,
    "version_minor": 0
   }
  }
 },
 "nbformat": 4,
 "nbformat_minor": 5
}
